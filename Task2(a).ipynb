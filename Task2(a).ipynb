{
  "nbformat": 4,
  "nbformat_minor": 0,
  "metadata": {
    "colab": {
      "provenance": []
    },
    "kernelspec": {
      "name": "python3",
      "display_name": "Python 3"
    },
    "language_info": {
      "name": "python"
    }
  },
  "cells": [
    {
      "cell_type": "code",
      "execution_count": null,
      "metadata": {
        "colab": {
          "base_uri": "https://localhost:8080/"
        },
        "id": "9hfxkiSlvF7u",
        "outputId": "59f68bfe-4ef9-4f58-9ce6-84c52ad1c383"
      },
      "outputs": [
        {
          "output_type": "stream",
          "name": "stdout",
          "text": [
            "Colab only includes TensorFlow 2.x; %tensorflow_version has no effect.\n"
          ]
        }
      ],
      "source": [
        "%tensorflow_version 2.x"
      ]
    },
    {
      "cell_type": "code",
      "source": [
        "import tensorflow as tf"
      ],
      "metadata": {
        "id": "JJns-vWbvIUa"
      },
      "execution_count": null,
      "outputs": []
    },
    {
      "cell_type": "code",
      "source": [
        "# First Task: Creating a TensorFlow constant\n",
        "\n",
        "# Creating a constant tensor with values [1, 2, 3]\n",
        "constant_tensor = tf.constant([1, 2, 3])\n",
        "\n",
        "# Printing the constant tensor\n",
        "print(\"The Constant Tensor is -\", constant_tensor)\n"
      ],
      "metadata": {
        "colab": {
          "base_uri": "https://localhost:8080/"
        },
        "id": "q6EXkIo7vg8G",
        "outputId": "d537d92c-212e-414d-fc9e-7611bee69603"
      },
      "execution_count": null,
      "outputs": [
        {
          "output_type": "stream",
          "name": "stdout",
          "text": [
            "The Constant Tensor is - tf.Tensor([1 2 3], shape=(3,), dtype=int32)\n"
          ]
        }
      ]
    },
    {
      "cell_type": "code",
      "source": [
        "# Second Task: Performing element wise multiplication\n",
        "\n",
        "# Defining the tensors\n",
        "a = tf.constant([2, 4, 6])\n",
        "b = tf.constant([1, 2, 3])\n",
        "\n",
        "# Performing the multiplication\n",
        "product = tf.multiply(a, b)\n",
        "\n",
        "# Printing the result\n",
        "print(product)\n"
      ],
      "metadata": {
        "colab": {
          "base_uri": "https://localhost:8080/"
        },
        "id": "GbMAdXagvnxO",
        "outputId": "c59965fa-897e-40a4-8306-2bf222139d4b"
      },
      "execution_count": null,
      "outputs": [
        {
          "output_type": "stream",
          "name": "stdout",
          "text": [
            "tf.Tensor([ 2  8 18], shape=(3,), dtype=int32)\n"
          ]
        }
      ]
    },
    {
      "cell_type": "code",
      "source": [
        "# Third Task: Reshaping a tensor\n",
        "\n",
        "# Define the 1D tensor\n",
        "x = tf.constant([1, 2, 3, 4, 5, 6])\n",
        "\n",
        "# Reshape the tensor into a 2D tensor with 2 rows and 3 columns\n",
        "reshaped_x = tf.reshape(x, (2, 3))\n",
        "\n",
        "# Print the reshaped tensor\n",
        "print(reshaped_x)\n"
      ],
      "metadata": {
        "colab": {
          "base_uri": "https://localhost:8080/"
        },
        "id": "Craw-TdXwTjA",
        "outputId": "70ebca93-b849-4f58-b16e-6beccc41c158"
      },
      "execution_count": null,
      "outputs": [
        {
          "output_type": "stream",
          "name": "stdout",
          "text": [
            "tf.Tensor(\n",
            "[[1 2 3]\n",
            " [4 5 6]], shape=(2, 3), dtype=int32)\n"
          ]
        }
      ]
    },
    {
      "cell_type": "code",
      "source": [
        "# Fourth Task: Extracting a column\n",
        "\n",
        "# Define the 2D tensor\n",
        "matrix = tf.constant([[1, 2, 3], [4, 5, 6], [7, 8, 9]])\n",
        "\n",
        "# Extract the middle column\n",
        "middle_column = matrix[:, 1]\n",
        "\n",
        "# Print the result\n",
        "print(middle_column)\n"
      ],
      "metadata": {
        "colab": {
          "base_uri": "https://localhost:8080/"
        },
        "id": "UNBlPCvbxUNO",
        "outputId": "f233db2b-0f1d-41a1-c599-03fa01a10020"
      },
      "execution_count": null,
      "outputs": [
        {
          "output_type": "stream",
          "name": "stdout",
          "text": [
            "tf.Tensor([2 5 8], shape=(3,), dtype=int32)\n"
          ]
        }
      ]
    },
    {
      "cell_type": "code",
      "source": [],
      "metadata": {
        "id": "lprssGIox0fg"
      },
      "execution_count": null,
      "outputs": []
    }
  ]
}