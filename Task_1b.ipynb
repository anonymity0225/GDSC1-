{
 "cells": [
  {
   "cell_type": "code",
   "execution_count": 27,
   "id": "fcf49132",
   "metadata": {},
   "outputs": [],
   "source": [
    "import pandas as pd\n",
    "import numpy as np\n",
    "from sklearn.tree import DecisionTreeClassifier\n",
    "from sklearn.model_selection import train_test_split\n",
    "from sklearn.metrics import accuracy_score, classification_report"
   ]
  },
  {
   "cell_type": "code",
   "execution_count": 37,
   "id": "8b8cedb5",
   "metadata": {},
   "outputs": [],
   "source": [
    "data = pd.read_csv('Social_Network_Ads.csv')"
   ]
  },
  {
   "cell_type": "code",
   "execution_count": 36,
   "id": "2afadfb8",
   "metadata": {},
   "outputs": [],
   "source": [
    "X = data.drop(columns=['Purchased'])"
   ]
  },
  {
   "cell_type": "code",
   "execution_count": 34,
   "id": "08267e3a",
   "metadata": {},
   "outputs": [],
   "source": [
    "y = data['Purchased']"
   ]
  },
  {
   "cell_type": "code",
   "execution_count": 33,
   "id": "c80e9d6a",
   "metadata": {},
   "outputs": [],
   "source": [
    "model = DecisionTreeClassifier()\n",
    "# Spliting the data for testing and training\n",
    "X_train, X_test, y_train, y_test = train_test_split(X,y, test_size=0.2, random_state=42)\n",
    "# Training the model\n",
    "model.fit(X_train, y_train)\n",
    "# Making predictions on the test data\n",
    "h_pred = model.predict(X_test)"
   ]
  },
  {
   "cell_type": "code",
   "execution_count": 32,
   "id": "26c240a3",
   "metadata": {},
   "outputs": [
    {
     "name": "stdout",
     "output_type": "stream",
     "text": [
      "Accuracy: 0.8375\n"
     ]
    }
   ],
   "source": [
    "accuracy = accuracy_score(y_test, h_pred)\n",
    "print('Accuracy:', accuracy)"
   ]
  }
 ],
 "metadata": {
  "kernelspec": {
   "display_name": "Python 3 (ipykernel)",
   "language": "python",
   "name": "python3"
  },
  "language_info": {
   "codemirror_mode": {
    "name": "ipython",
    "version": 3
   },
   "file_extension": ".py",
   "mimetype": "text/x-python",
   "name": "python",
   "nbconvert_exporter": "python",
   "pygments_lexer": "ipython3",
   "version": "3.11.5"
  }
 },
 "nbformat": 4,
 "nbformat_minor": 5
}
